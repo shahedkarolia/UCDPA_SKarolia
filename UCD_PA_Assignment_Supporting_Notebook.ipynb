{
 "cells": [
  {
   "attachments": {},
   "cell_type": "markdown",
   "metadata": {},
   "source": [
    "# UCD_PA Specialist Certificate in Data Analytics Essentials\n",
    "\n",
    "## Notebook Description\n",
    "\n",
    "This is a supporting jupyter notebook for the course assignment.\n",
    "\n",
    "The Project Assignment How To Guide lists areas the assignment we will be assessed on.  Some of the items required have not been used in the main ML project notebook, therefore, this notebook has been used to illustrate these assignment  requirements.\n",
    "\n",
    "**Assignment Requirements**\n",
    "* **1. Real-world scenario**\n",
    "  * The project should use a real-world dataset and include a reference of their source in the report (5)\n",
    "  * **[See Main ML Project notebook]**\n",
    "* **2. Importing data (10)**\n",
    "  * Your project should make use of one or more of the following: \n",
    "    * Relational database\n",
    "    * API \n",
    "    * web scraping \n",
    "    * **[Included in this notebook]**\n",
    "  * Import a CSV file into a Pandas DataFrame (10)\n",
    "    * **[See Main ML Project notebook]**\n",
    "* **3. Analyzing data**\n",
    "  * Your project should use Regex to extract a pattern in data (10) **[Included in this notebook]**\n",
    "  * Replace missing values or drop duplicates (10) **[See Main ML Project notebook]**\n",
    "  * Make use of iterators (5) **[Included in this notebook]**\n",
    "  * Merge DataFrames (5) **[Included in this notebook]**\n",
    "* **4. Python**\n",
    "  * Define a custom function to create reusable code (5) **[See Main ML Project notebook]**\n",
    "  * NumPy (5) **[See Main ML Project notebook]**\n",
    "  * Dictionary or Lists (5) **[See Main ML Project notebook]**\n",
    "* **5. Machine Learning (30)** **[See Main ML Project notebook]**\n",
    "  * Predict a target variable with Supervised or Unsupervised algorithm \n",
    "  * You are free to choose any algorithm\n",
    "  * Perform hyper parameter tuning or boosting , whichever is relevant to your model. If it is not relevant, justify that in your report and Python comments\n",
    "* **6. Visualise**\n",
    "  * Present two charts with Seaborn or Matplotlib (10) **[See Main ML Project notebook]**\n",
    "* **7. Generate valuable insights** **[See Main ML Project notebook]**\n",
    "  * 5 insights from the project (10)**[See Main ML Project notebook]**\n",
    "\n"
   ]
  },
  {
   "attachments": {},
   "cell_type": "markdown",
   "metadata": {},
   "source": [
    "## 2. Importing Data "
   ]
  },
  {
   "attachments": {},
   "cell_type": "markdown",
   "metadata": {},
   "source": [
    "### Import Data via a Relational Database\n",
    "\n",
    "The following section demonstrates how to get data/import data from an relational db\n",
    "Example db used is the northwind database  (https://github.com/jpwhite3/northwind-SQLite3)\n",
    "* northwind.db file added to folder"
   ]
  },
  {
   "cell_type": "code",
   "execution_count": null,
   "metadata": {},
   "outputs": [],
   "source": []
  },
  {
   "attachments": {},
   "cell_type": "markdown",
   "metadata": {},
   "source": [
    "### Import Data via an API\n",
    "The following section demonstrates how to get data/import data from an API\n",
    "* download market data from Yahoo! Finance's API (https://pypi.org/project/yfinance/)"
   ]
  },
  {
   "cell_type": "code",
   "execution_count": null,
   "metadata": {},
   "outputs": [],
   "source": [
    "### Import Data via an API"
   ]
  },
  {
   "attachments": {},
   "cell_type": "markdown",
   "metadata": {},
   "source": [
    "### Import data with Webscraping\n",
    "This section illustrates how import data into Pandas via webscraping\n",
    "*  scrape data from https://fbref.com/en/comps/9/Premier-League-Stats"
   ]
  },
  {
   "cell_type": "code",
   "execution_count": null,
   "metadata": {},
   "outputs": [],
   "source": []
  }
 ],
 "metadata": {
  "kernelspec": {
   "display_name": "TestEnv",
   "language": "python",
   "name": "python3"
  },
  "language_info": {
   "name": "python",
   "version": "3.9.15 (main, Nov 24 2022, 14:39:17) [MSC v.1916 64 bit (AMD64)]"
  },
  "orig_nbformat": 4,
  "vscode": {
   "interpreter": {
    "hash": "576bdd16f1f1d06aa513539895b796f4ddcdff44909ab27ea0f00958ca71a091"
   }
  }
 },
 "nbformat": 4,
 "nbformat_minor": 2
}
