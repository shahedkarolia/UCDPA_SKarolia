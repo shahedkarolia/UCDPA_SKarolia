{
 "cells": [
  {
   "attachments": {},
   "cell_type": "markdown",
   "metadata": {},
   "source": [
    "# UCD_PA Specialist Certificate in Data Analytics Essentials\n",
    "\n",
    "## Notebook Description\n",
    "\n",
    "This is a supporting jupyter notebook for the course assignment.\n",
    "\n",
    "The Project Assignment How To Guide list the requirement  and details  various subjects/techniques that we will be assessed on.  Some of the items required have not been used in the main ML project notebook, and this notebook will illustrate these assignment  requirements.\n",
    "\n",
    "**Assignment Requirements**\n",
    "* 1. Real-world scenario\n",
    "  * The project should use a real-world dataset and include a reference of their source in the report (5)\n",
    "  * **[See Main ML Project notebook]**\n",
    "* 2. Importing data (10)\n",
    "  * Your project should make use of one or more of the following: \n",
    "    * Relational database\n",
    "    * API \n",
    "    * web scraping \n",
    "    * **[Included in this notebook]**\n",
    "  * Import a CSV file into a Pandas DataFrame (10)\n",
    "    * **[See Main ML Project notebook]**\n",
    "* 3. Analyzing data\n",
    "  * Your project should use Regex to extract a pattern in data (10)\n",
    "  * Replace missing values or drop duplicates (10)\n",
    "  * Make use of iterators (5)\n",
    "  * Merge DataFrames (5)\n",
    "* 4. Python\n",
    "  * Define a custom function to create reusable code (5)\n",
    "  * NumPy (5)\n",
    "  * Dictionary or Lists (5)\n",
    "* 5. Machine Learning (30)\n",
    "  * Predict a target variable with Supervised or Unsupervised algorithm \n",
    "  * You are free to choose any algorithm\n",
    "  * Perform hyper parameter tuning or boosting , whichever is relevant to your model. If it is not relevant, justify that in your report and Python comments\n",
    "* 6. Visualise \n",
    "  * Present two charts with Seaborn or Matplotlib (10)\n",
    "* 7. Generate valuable insights\n",
    "  * 5 insights from the project (10)\n",
    "\n"
   ]
  },
  {
   "cell_type": "code",
   "execution_count": null,
   "metadata": {},
   "outputs": [],
   "source": []
  }
 ],
 "metadata": {
  "kernelspec": {
   "display_name": "Python 3",
   "language": "python",
   "name": "python3"
  },
  "language_info": {
   "name": "python",
   "version": "3.9.13 (tags/v3.9.13:6de2ca5, May 17 2022, 16:36:42) [MSC v.1929 64 bit (AMD64)]"
  },
  "orig_nbformat": 4,
  "vscode": {
   "interpreter": {
    "hash": "81794d4967e6c3204c66dcd87b604927b115b27c00565d3d43f05ba2f3a2cb0d"
   }
  }
 },
 "nbformat": 4,
 "nbformat_minor": 2
}
